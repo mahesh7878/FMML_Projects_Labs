{
  "nbformat": 4,
  "nbformat_minor": 0,
  "metadata": {
    "colab": {
      "provenance": [],
      "include_colab_link": true
    },
    "kernelspec": {
      "name": "python3",
      "display_name": "Python 3"
    },
    "language_info": {
      "name": "python"
    }
  },
  "cells": [
    {
      "cell_type": "markdown",
      "metadata": {
        "id": "view-in-github",
        "colab_type": "text"
      },
      "source": [
        "<a href=\"https://colab.research.google.com/github/mahesh7878/FMML_Projects_Labs/blob/main/Module_01_Lab_03_Augmentation.ipynb\" target=\"_parent\"><img src=\"https://colab.research.google.com/assets/colab-badge.svg\" alt=\"Open In Colab\"/></a>"
      ]
    },
    {
      "cell_type": "markdown",
      "metadata": {
        "id": "w3yfry25JgZK"
      },
      "source": [
        "# Data augmentation\n",
        "\n",
        "FMML Module 1, Lab 3<br>\n",
        "\n",
        " In this lab, we will see how augmentation of data samples help in improving the machine learning performance"
      ]
    },
    {
      "cell_type": "code",
      "metadata": {
        "id": "xZU8_elooqP0"
      },
      "source": [
        "import numpy as np\n",
        "import matplotlib.pyplot as plt\n",
        "from keras.datasets import mnist\n",
        "# set randomseed\n",
        "rng = np.random.default_rng(seed=42)\n",
        "from sklearn.utils.extmath import cartesian\n",
        "from skimage.transform import rotate, AffineTransform, warp\n",
        "import math"
      ],
      "execution_count": 1,
      "outputs": []
    },
    {
      "cell_type": "markdown",
      "metadata": {
        "id": "T5pHYogSMHiE"
      },
      "source": [
        "Augmentation is useful when we have less training data available. Augmentation allows us to 'create' a larger dataset programatically.\n",
        "\n",
        "For this lab we will use a subset of MNIST that is very small, to better understand the effect of augmentation."
      ]
    },
    {
      "cell_type": "code",
      "metadata": {
        "id": "gJvmWJ58ovx5",
        "colab": {
          "base_uri": "https://localhost:8080/"
        },
        "outputId": "a2ffe831-f241-4c10-f7e9-971dd35ae47d"
      },
      "source": [
        "#loading the dataset\n",
        "(train_X, train_y), (test_X, test_y) = mnist.load_data()\n",
        "train_X = train_X/255\n",
        "test_X = test_X/255\n",
        "\n",
        "train_X = train_X[::1200,:,:].copy() # subsample. Otherwise it will take too long!\n",
        "train_y = train_y[::1200].copy() # do the same to the labels"
      ],
      "execution_count": 2,
      "outputs": [
        {
          "output_type": "stream",
          "name": "stdout",
          "text": [
            "Downloading data from https://storage.googleapis.com/tensorflow/tf-keras-datasets/mnist.npz\n",
            "11490434/11490434 [==============================] - 0s 0us/step\n"
          ]
        }
      ]
    },
    {
      "cell_type": "markdown",
      "metadata": {
        "id": "8XamH6z1Rt7S"
      },
      "source": [
        "Let us borrow a few functions from the previous labs:"
      ]
    },
    {
      "cell_type": "code",
      "metadata": {
        "id": "Zk2W5_3BRLMS"
      },
      "source": [
        "def NN1(traindata, trainlabel, query):\n",
        "  diff  = traindata - query  # find the difference between features. Numpy automatically takes care of the size here\n",
        "  sq = diff*diff # square the differences\n",
        "  dist = sq.sum(1) # add up the squares\n",
        "  label = trainlabel[np.argmin(dist)] # our predicted label is the label of the training data which has the least distance from the query\n",
        "  return label\n",
        "\n",
        "def NN(traindata, trainlabel, testdata):\n",
        "  # we will run nearest neighbour for each sample in the test data\n",
        "  # and collect the predicted classes in an array using list comprehension\n",
        "  traindata = traindata.reshape(-1, 28*28)\n",
        "  testdata = testdata.reshape(-1,28*28)\n",
        "  predlabel = np.array([NN1(traindata, trainlabel, i) for i in testdata])\n",
        "  return predlabel\n",
        "\n",
        "def Accuracy(gtlabel, predlabel):\n",
        "  assert len(gtlabel)==len(predlabel), \"Length of the groundtruth labels and predicted labels should be the same\"\n",
        "  correct = (gtlabel==predlabel).sum() # count the number of times the groundtruth label is equal to the predicted label.\n",
        "  return correct/len(gtlabel)"
      ],
      "execution_count": 3,
      "outputs": []
    },
    {
      "cell_type": "markdown",
      "metadata": {
        "id": "eGiA3LmDSJZo"
      },
      "source": [
        "In this lab, we will use the image pixels themselves as features, instead of extracting features. Each image has 28*28 pixels, so we will flatten them to 784 pixels to use as features. Note that this is very compute intensive and will take a long time.<br>\n",
        "\n",
        "Let us check the baseline accuracy on the test set without any augmentations. We hope that adding augmentations will help us to get better results."
      ]
    },
    {
      "cell_type": "code",
      "metadata": {
        "id": "4tQvnoasRNEV",
        "colab": {
          "base_uri": "https://localhost:8080/"
        },
        "outputId": "df4ce1e0-43b3-4d5a-a754-f318059b504a"
      },
      "source": [
        "testpred = NN(train_X, train_y, test_X)\n",
        "print('Baseline accuracy without augmentation is ', Accuracy(test_y, testpred))"
      ],
      "execution_count": 4,
      "outputs": [
        {
          "output_type": "stream",
          "name": "stdout",
          "text": [
            "Baseline accuracy without augmentation is  0.6472\n"
          ]
        }
      ]
    },
    {
      "cell_type": "markdown",
      "metadata": {
        "id": "ZfkcMfhIZQ7U"
      },
      "source": [
        "Let us try to improve this accuracy using augmentations. When we create augmentations, we have to make sure that the changes reflect what will naturally occur in the dataset. For example, we should not add colour to our samples as an augmentation because they do not naturally occur. We should not also flip the images in MNIST, because flipped images have different meanings for digits.\n",
        "\n",
        "### Augmentation 1: rotation\n",
        "\n",
        "Let us try rotating the image a little. We will use skimage library for this."
      ]
    },
    {
      "cell_type": "code",
      "metadata": {
        "id": "z5WolJ9fZE7L",
        "colab": {
          "base_uri": "https://localhost:8080/",
          "height": 860
        },
        "outputId": "4f66de8c-5281-4bdb-966f-252693facb13"
      },
      "source": [
        "plt.imshow(train_X[2], cmap='gray')\n",
        "plt.show()\n",
        "plt.imshow(rotate(train_X[2],25), cmap='gray')"
      ],
      "execution_count": 5,
      "outputs": [
        {
          "output_type": "display_data",
          "data": {
            "text/plain": [
              "<Figure size 640x480 with 1 Axes>"
            ],
            "image/png": "[encoded data removed]"
          },
          "metadata": {}
        },
        {
          "output_type": "execute_result",
          "data": {
            "text/plain": [
              "<matplotlib.image.AxesImage at 0x7ee97e9accd0>"
            ]
          },
          "metadata": {},
          "execution_count": 5
        },
        {
          "output_type": "display_data",
          "data": {
            "text/plain": [
              "<Figure size 640x480 with 1 Axes>"
            ],
            "image/png": "[encoded data removed]"
          },
          "metadata": {}
        }
      ]
    },
    {
      "cell_type": "markdown",
      "metadata": {
        "id": "KE33Yxgggu0c"
      },
      "source": [
        "After rotating, the the class of the image is still the same. Let us make a function to rotate multiple images by random angles. We want a slightly different image every time we run this function. So, we generate a random number between 0 and 1 and change it so that it lies between -constraint/2 and +constraint/2"
      ]
    },
    {
      "cell_type": "code",
      "metadata": {
        "id": "vyM7pUV7Reze"
      },
      "source": [
        "def augRotate(sample, angleconstraint):\n",
        "  if angleconstraint==0:\n",
        "    return sample\n",
        "  if len(sample.shape)==2:\n",
        "    sample = np.expand_dims(sample, 0)  # make sure the sample is 3 dimensional\n",
        "  angle = rng.random(len(sample)) # generate random numbers for angles\n",
        "  angle = (angle-0.5)*angleconstraint # make the random angle constrained\n",
        "  nsample = sample.copy() # preallocate the augmented array to make it faster\n",
        "  for ii in range(len(sample)):\n",
        "    nsample[ii] = rotate(sample[ii], angle[ii])\n",
        "  return np.squeeze(nsample) # take care if the input had only one sample."
      ],
      "execution_count": 6,
      "outputs": []
    },
    {
      "cell_type": "markdown",
      "metadata": {
        "id": "kDk-N5VNjar9"
      },
      "source": [
        "This function returns a slightly different image each time we call it. So we can increase the number of images in the sample by any multiple."
      ]
    },
    {
      "cell_type": "code",
      "metadata": {
        "id": "Vw3O9zGFgI8K",
        "colab": {
          "base_uri": "https://localhost:8080/",
          "height": 639
        },
        "outputId": "583b88fc-8ac5-4a7a-f236-332c1fb06cff"
      },
      "source": [
        "sample = train_X[20]\n",
        "angleconstraint = 70\n",
        "# show the original image\n",
        "plt.imshow(sample, cmap='gray')\n",
        "plt.show()\n",
        "plt.subplot(1,3,1)\n",
        "plt.imshow(augRotate(sample, angleconstraint), cmap='gray') # show an augmented image\n",
        "plt.subplot(1,3,2)\n",
        "plt.imshow(augRotate(sample, angleconstraint), cmap='gray') # show another augmented image from the same sample\n",
        "plt.subplot(1,3,3)\n",
        "plt.imshow(augRotate(sample, angleconstraint), cmap='gray') # one more image from the same sample"
      ],
      "execution_count": 7,
      "outputs": [
        {
          "output_type": "display_data",
          "data": {
            "text/plain": [
              "<Figure size 640x480 with 1 Axes>"
            ],
            "image/png": "[encoded data removed]"
          },
          "metadata": {}
        },
        {
          "output_type": "execute_result",
          "data": {
            "text/plain": [
              "<matplotlib.image.AxesImage at 0x7ee97e87d930>"
            ]
          },
          "metadata": {},
          "execution_count": 7
        },
        {
          "output_type": "display_data",
          "data": {
            "text/plain": [
              "<Figure size 640x480 with 3 Axes>"
            ],
            "image/png": "[encoded data removed]"
          },
          "metadata": {}
        }
      ]
    },
    {
      "cell_type": "markdown",
      "metadata": {
        "id": "ytv3NxF-kgxN"
      },
      "source": [
        "Let us augment the whole dataset and see if this improves the test accuracy"
      ]
    },
    {
      "cell_type": "code",
      "metadata": {
        "id": "iNzNAoDBkRzj",
        "colab": {
          "base_uri": "https://localhost:8080/"
        },
        "outputId": "12a6da34-f216-4359-87be-ad0caf61a9f7"
      },
      "source": [
        "# hyperparameters\n",
        "angleconstraint = 60\n",
        "naugmentations = 5\n",
        "\n",
        "# augment\n",
        "augdata = train_X # we include the original images also in the augmented dataset\n",
        "auglabel = train_y\n",
        "for ii in range(naugmentations):\n",
        "  augdata = np.concatenate((augdata, augRotate(train_X, angleconstraint))) # concatenate the augmented data to the set\n",
        "  auglabel = np.concatenate((auglabel, train_y))  # the labels don't change when we augment\n",
        "\n",
        "# check the test accuracy\n",
        "testpred = NN(augdata, auglabel, test_X)\n",
        "print('Accuracy after rotation augmentation is ', Accuracy(test_y, testpred))"
      ],
      "execution_count": 8,
      "outputs": [
        {
          "output_type": "stream",
          "name": "stdout",
          "text": [
            "Accuracy after rotation augmentation is  0.6616\n"
          ]
        }
      ]
    },
    {
      "cell_type": "markdown",
      "metadata": {
        "id": "E88Nt9s1p5R6"
      },
      "source": [
        "The angle constraint is a hyperparameter which we have to tune using a validation set. (Here we are not doing that for time constraints). Let us try a grid search to find the best angle constraint."
      ]
    },
    {
      "cell_type": "code",
      "metadata": {
        "id": "aiaFRLREmGp6",
        "colab": {
          "base_uri": "https://localhost:8080/"
        },
        "outputId": "f87e1c1c-8895-4278-c7a0-aa38ab5b6661"
      },
      "source": [
        "angleconstraints = [0,10,20,30,40,50,60,70,80,90] # the values we want to test\n",
        "accuracies = np.zeros(len(angleconstraints), dtype=np.float) # we will save the values here\n",
        "\n",
        "for ii in range(len(angleconstraints)):\n",
        "  # create the augmented dataset\n",
        "  augdata = train_X # we include the original images also in the augmented dataset\n",
        "  auglabel = train_y\n",
        "  for jj in range(naugmentations):\n",
        "    augdata = np.concatenate((augdata, augRotate(train_X, angleconstraints[ii]))) # concatenate the augmented data to the set\n",
        "    auglabel = np.concatenate((auglabel, train_y))  # the labels don't change when we augment\n",
        "\n",
        "  # check the test accuracy\n",
        "  testpred = NN(augdata, auglabel, test_X)\n",
        "  accuracies[ii] = Accuracy(test_y, testpred)\n",
        "  print('Accuracy after rotation augmentation constrained by ',angleconstraints[ii], ' is ', accuracies[ii], flush=True)"
      ],
      "execution_count": 11,
      "outputs": [
        {
          "output_type": "stream",
          "name": "stderr",
          "text": [
            "<ipython-input-11-2f14d3721156>:2: DeprecationWarning: `np.float` is a deprecated alias for the builtin `float`. To silence this warning, use `float` by itself. Doing this will not modify any behavior and is safe. If you specifically wanted the numpy scalar type, use `np.float64` here.\n",
            "Deprecated in NumPy 1.20; for more details and guidance: https://numpy.org/devdocs/release/1.20.0-notes.html#deprecations\n",
            "  accuracies = np.zeros(len(angleconstraints), dtype=np.float) # we will save the values here\n"
          ]
        },
        {
          "output_type": "stream",
          "name": "stdout",
          "text": [
            "Accuracy after rotation augmentation constrained by  0  is  0.6472\n",
            "Accuracy after rotation augmentation constrained by  10  is  0.6697\n",
            "Accuracy after rotation augmentation constrained by  20  is  0.6764\n",
            "Accuracy after rotation augmentation constrained by  30  is  0.6722\n",
            "Accuracy after rotation augmentation constrained by  40  is  0.6609\n",
            "Accuracy after rotation augmentation constrained by  50  is  0.6662\n",
            "Accuracy after rotation augmentation constrained by  60  is  0.6669\n",
            "Accuracy after rotation augmentation constrained by  70  is  0.6625\n",
            "Accuracy after rotation augmentation constrained by  80  is  0.6598\n",
            "Accuracy after rotation augmentation constrained by  90  is  0.6459\n"
          ]
        }
      ]
    },
    {
      "cell_type": "markdown",
      "metadata": {
        "id": "2oVDRYP2rxob"
      },
      "source": [
        "Let us see the best value for angle constraint: (Ideally this should be done on validation set, not test set)"
      ]
    },
    {
      "cell_type": "code",
      "metadata": {
        "id": "LqthJa_pmMHz",
        "colab": {
          "base_uri": "https://localhost:8080/",
          "height": 481
        },
        "outputId": "8c88a003-7eb5-4a52-e3b9-c4aead40a334"
      },
      "source": [
        "fig = plt.figure()\n",
        "ax = fig.add_axes([0.1, 0.1, 0.8, 0.8]) # main axes\n",
        "# plot the variation of accuracy\n",
        "ax.plot(angleconstraints, accuracies)\n",
        "ax.set_xlabel('angle')\n",
        "ax.set_ylabel('accuracy')\n",
        "# plot the maximum accuracy\n",
        "maxind = np.argmax(accuracies)\n",
        "plt.scatter(angleconstraints[maxind], accuracies[maxind], c='red')"
      ],
      "execution_count": 12,
      "outputs": [
        {
          "output_type": "execute_result",
          "data": {
            "text/plain": [
              "<matplotlib.collections.PathCollection at 0x7ee97e707580>"
            ]
          },
          "metadata": {},
          "execution_count": 12
        },
        {
          "output_type": "display_data",
          "data": {
            "text/plain": [
              "<Figure size 640x480 with 1 Axes>"
            ],
            "image/png": "[encoded data removed]"
          },
          "metadata": {}
        }
      ]
    },
    {
      "cell_type": "markdown",
      "metadata": {
        "id": "eJ8YuVfCuGTj"
      },
      "source": [
        "Let us try one more augmentation: shear. Here is what this looks like:"
      ]
    },
    {
      "cell_type": "code",
      "metadata": {
        "id": "pMiw46NLwssK"
      },
      "source": [
        "def shear(sample, amount):\n",
        "  tform = AffineTransform(shear = amount) # create the shear transform\n",
        "  img = warp(sample, tform) # apply the shear\n",
        "  # this makes the digit off-center. Since all the images in the test set are centralized, we will do the same here\n",
        "  col = img.sum(0).nonzero()[0]\n",
        "  row = img.sum(1).nonzero()[0]\n",
        "  if len(col)>0 and len(row)>0:\n",
        "    xshift = int(sample.shape[0]/2 - (row[0]+row[-1])/2)\n",
        "    yshift = int(sample.shape[1]/2 - (col[0]+col[-1])/2)\n",
        "    img = np.roll(img, (xshift, yshift),(0,1))\n",
        "  return img"
      ],
      "execution_count": 13,
      "outputs": []
    },
    {
      "cell_type": "code",
      "metadata": {
        "id": "4_u_EYpmnABK",
        "colab": {
          "base_uri": "https://localhost:8080/",
          "height": 860
        },
        "outputId": "cfe43e54-f057-4a7a-f62a-b55a049534ec"
      },
      "source": [
        "sample = train_X[2]\n",
        "plt.imshow(sample, cmap='gray')\n",
        "plt.show()\n",
        "\n",
        "# apply shear\n",
        "plt.imshow(shear(sample, 0.4), cmap='gray')"
      ],
      "execution_count": 14,
      "outputs": [
        {
          "output_type": "display_data",
          "data": {
            "text/plain": [
              "<Figure size 640x480 with 1 Axes>"
            ],
            "image/png": "[encoded data removed]"
          },
          "metadata": {}
        },
        {
          "output_type": "execute_result",
          "data": {
            "text/plain": [
              "<matplotlib.image.AxesImage at 0x7ee97e5e0fa0>"
            ]
          },
          "metadata": {},
          "execution_count": 14
        },
        {
          "output_type": "display_data",
          "data": {
            "text/plain": [
              "<Figure size 640x480 with 1 Axes>"
            ],
            "image/png": "[encoded data removed]"
          },
          "metadata": {}
        }
      ]
    },
    {
      "cell_type": "markdown",
      "metadata": {
        "id": "lGnWMoyM2pK4"
      },
      "source": [
        "Create an augmentation function which applies a random shear according to the constraint we provide:"
      ]
    },
    {
      "cell_type": "code",
      "metadata": {
        "id": "-qLDJyGytwP5"
      },
      "source": [
        "def augShear(sample, shearconstraint):\n",
        "  if shearconstraint==0:\n",
        "    return sample\n",
        "  if len(sample.shape)==2:\n",
        "    sample = np.expand_dims(sample, 0)  # make sure the sample is 3 dimensional\n",
        "  amt = rng.random(len(sample)) # generate random numbers for shear\n",
        "  amt = (amt-0.5)*shearconstraint # make the random shear constrained\n",
        "  nsample = sample.copy() # preallocate the augmented array to make it faster\n",
        "  for ii in range(len(sample)):\n",
        "    nsample[ii] = shear(sample[ii], amt[ii])\n",
        "  return np.squeeze(nsample) # take care if the input had only one sample."
      ],
      "execution_count": 15,
      "outputs": []
    },
    {
      "cell_type": "markdown",
      "metadata": {
        "id": "s6lQcWW93suJ"
      },
      "source": [
        "Let us do a grid search to find the best shear constraint."
      ]
    },
    {
      "cell_type": "code",
      "metadata": {
        "id": "l_wrqPkrzBb_",
        "colab": {
          "base_uri": "https://localhost:8080/"
        },
        "outputId": "4e07514f-cd83-48dc-df11-630aa3b9f79c"
      },
      "source": [
        "shearconstraints = [0, 0.2,0.4,0.6,0.8,1.0,1.2,1.4,1.6,1.8,2.0] # the values we want to test\n",
        "accuracies = np.zeros(len(shearconstraints), dtype=np.float) # we will save the values here\n",
        "\n",
        "for ii in range(len(shearconstraints)):\n",
        "  # create the augmented dataset\n",
        "  augdata = train_X # we include the original images also in the augmented dataset\n",
        "  auglabel = train_y\n",
        "  for jj in range(naugmentations):\n",
        "    augdata = np.concatenate((augdata, augShear(train_X, shearconstraints[ii]))) # concatenate the augmented data to the set\n",
        "    auglabel = np.concatenate((auglabel, train_y))  # the labels don't change when we augment\n",
        "\n",
        "  # check the test accuracy\n",
        "  testpred = NN(augdata, auglabel, test_X)\n",
        "  accuracies[ii] = Accuracy(test_y, testpred)\n",
        "  print('Accuracy after shear augmentation constrained by ',shearconstraints[ii], ' is ', accuracies[ii], flush=True)"
      ],
      "execution_count": 16,
      "outputs": [
        {
          "output_type": "stream",
          "name": "stderr",
          "text": [
            "<ipython-input-16-8a89fef4983d>:2: DeprecationWarning: `np.float` is a deprecated alias for the builtin `float`. To silence this warning, use `float` by itself. Doing this will not modify any behavior and is safe. If you specifically wanted the numpy scalar type, use `np.float64` here.\n",
            "Deprecated in NumPy 1.20; for more details and guidance: https://numpy.org/devdocs/release/1.20.0-notes.html#deprecations\n",
            "  accuracies = np.zeros(len(shearconstraints), dtype=np.float) # we will save the values here\n"
          ]
        },
        {
          "output_type": "stream",
          "name": "stdout",
          "text": [
            "Accuracy after shear augmentation constrained by  0  is  0.6472\n",
            "Accuracy after shear augmentation constrained by  0.2  is  0.6218\n",
            "Accuracy after shear augmentation constrained by  0.4  is  0.6312\n",
            "Accuracy after shear augmentation constrained by  0.6  is  0.6466\n",
            "Accuracy after shear augmentation constrained by  0.8  is  0.6347\n",
            "Accuracy after shear augmentation constrained by  1.0  is  0.6398\n",
            "Accuracy after shear augmentation constrained by  1.2  is  0.6362\n",
            "Accuracy after shear augmentation constrained by  1.4  is  0.6228\n",
            "Accuracy after shear augmentation constrained by  1.6  is  0.6243\n",
            "Accuracy after shear augmentation constrained by  1.8  is  0.6024\n",
            "Accuracy after shear augmentation constrained by  2.0  is  0.6101\n"
          ]
        }
      ]
    },
    {
      "cell_type": "code",
      "metadata": {
        "id": "EKaH-YR-zVnA",
        "colab": {
          "base_uri": "https://localhost:8080/",
          "height": 481
        },
        "outputId": "c0783117-2072-49b1-cecc-59b5148e7571"
      },
      "source": [
        "fig = plt.figure()\n",
        "ax = fig.add_axes([0.1, 0.1, 0.8, 0.8]) # main axes\n",
        "# plot the variation of accuracy\n",
        "ax.plot(shearconstraints, accuracies)\n",
        "ax.set_xlabel('angle')\n",
        "ax.set_ylabel('accuracy')\n",
        "# plot the maximum accuracy\n",
        "maxind = np.argmax(accuracies)\n",
        "plt.scatter(shearconstraints[maxind], accuracies[maxind], c='red')"
      ],
      "execution_count": 17,
      "outputs": [
        {
          "output_type": "execute_result",
          "data": {
            "text/plain": [
              "<matplotlib.collections.PathCollection at 0x7ee97e48a5c0>"
            ]
          },
          "metadata": {},
          "execution_count": 17
        },
        {
          "output_type": "display_data",
          "data": {
            "text/plain": [
              "<Figure size 640x480 with 1 Axes>"
            ],
            "image/png": "[encoded data removed]"
          },
          "metadata": {}
        }
      ]
    },
    {
      "cell_type": "markdown",
      "metadata": {
        "id": "ccfdbRcQ7Zgg"
      },
      "source": [
        "We can do multiple augmentations at the same time. Here is a function to do both shear and rotation to the sample. In this case, we will have two hyperparameters."
      ]
    },
    {
      "cell_type": "code",
      "metadata": {
        "id": "sh8S_Pxa0XCv"
      },
      "source": [
        "def augRotateShear(sample, angleconstraint, shearconstraint):\n",
        "  if len(sample.shape)==2:\n",
        "    sample = np.expand_dims(sample, 0)  # make sure the sample is 3 dimensional\n",
        "  amt = rng.random(len(sample)) # generate random numbers for shear\n",
        "  amt = (amt-0.5)*shearconstraint # make the random shear constrained\n",
        "  angle = rng.random(len(sample)) # generate random numbers for angles\n",
        "  angle = (angle-0.5)*angleconstraint # make the random angle constrained\n",
        "  nsample = sample.copy() # preallocate the augmented array to make it faster\n",
        "  for ii in range(len(sample)):\n",
        "    nsample[ii] = rotate(shear(sample[ii], amt[ii]), angle[ii]) # first apply shear, then rotate\n",
        "  return np.squeeze(nsample) # take care if the input had only one sample."
      ],
      "execution_count": 18,
      "outputs": []
    },
    {
      "cell_type": "markdown",
      "metadata": {
        "id": "OGKyjjNx-NQ4"
      },
      "source": [
        "Since we have two hyperparameters, we have to do the grid search on a 2 dimensional matrix. We can use our previous experience to inform where to search for the best hyperparameters."
      ]
    },
    {
      "cell_type": "code",
      "metadata": {
        "id": "TJC45WRg0pOP",
        "colab": {
          "base_uri": "https://localhost:8080/"
        },
        "outputId": "4dd627d7-f511-4158-b0a7-6b6bdb4e559c"
      },
      "source": [
        "shearconstraints = [0, 0.2,0.4,0.6,0.8,1.0,1.2,1.4,1.6] # the values we want to test\n",
        "angleconstraints = [0,10,20,30,40,50,60] # the values we want to test\n",
        "hyp = cartesian((shearconstraints, angleconstraints)) # cartesian product of both\n",
        "\n",
        "accuracies = np.zeros(len(hyp), dtype=np.float) # we will save the values here\n",
        "\n",
        "for ii in range(len(hyp)):\n",
        "  # create the augmented dataset\n",
        "  augdata = train_X # we include the original images also in the augmented dataset\n",
        "  auglabel = train_y\n",
        "  for jj in range(naugmentations):\n",
        "    augdata = np.concatenate((augdata, augRotateShear(train_X, hyp[ii][0], hyp[ii][1]))) # concatenate the augmented data to the set\n",
        "    auglabel = np.concatenate((auglabel, train_y))  # the labels don't change when we augment\n",
        "\n",
        "  # check the test accuracy\n",
        "  testpred = NN(augdata, auglabel, test_X)\n",
        "  accuracies[ii] = Accuracy(test_y, testpred)\n",
        "  print('Accuracy after augmentation shear:',hyp[ii][0], 'angle:',hyp[ii][1], ' is ', accuracies[ii], flush=True)"
      ],
      "execution_count": 20,
      "outputs": [
        {
          "output_type": "stream",
          "name": "stderr",
          "text": [
            "<ipython-input-20-09de780976d0>:5: DeprecationWarning: `np.float` is a deprecated alias for the builtin `float`. To silence this warning, use `float` by itself. Doing this will not modify any behavior and is safe. If you specifically wanted the numpy scalar type, use `np.float64` here.\n",
            "Deprecated in NumPy 1.20; for more details and guidance: https://numpy.org/devdocs/release/1.20.0-notes.html#deprecations\n",
            "  accuracies = np.zeros(len(hyp), dtype=np.float) # we will save the values here\n"
          ]
        },
        {
          "output_type": "stream",
          "name": "stdout",
          "text": [
            "Accuracy after augmentation shear: 0.0 angle: 0.0  is  0.6332\n",
            "Accuracy after augmentation shear: 0.0 angle: 10.0  is  0.5941\n",
            "Accuracy after augmentation shear: 0.0 angle: 20.0  is  0.6008\n",
            "Accuracy after augmentation shear: 0.0 angle: 30.0  is  0.5943\n",
            "Accuracy after augmentation shear: 0.0 angle: 40.0  is  0.6002\n",
            "Accuracy after augmentation shear: 0.0 angle: 50.0  is  0.6021\n",
            "Accuracy after augmentation shear: 0.0 angle: 60.0  is  0.616\n",
            "Accuracy after augmentation shear: 0.2 angle: 0.0  is  0.6339\n",
            "Accuracy after augmentation shear: 0.2 angle: 10.0  is  0.6044\n",
            "Accuracy after augmentation shear: 0.2 angle: 20.0  is  0.5954\n",
            "Accuracy after augmentation shear: 0.2 angle: 30.0  is  0.6013\n",
            "Accuracy after augmentation shear: 0.2 angle: 40.0  is  0.5934\n",
            "Accuracy after augmentation shear: 0.2 angle: 50.0  is  0.5854\n",
            "Accuracy after augmentation shear: 0.2 angle: 60.0  is  0.6188\n",
            "Accuracy after augmentation shear: 0.4 angle: 0.0  is  0.6352\n",
            "Accuracy after augmentation shear: 0.4 angle: 10.0  is  0.6113\n",
            "Accuracy after augmentation shear: 0.4 angle: 20.0  is  0.6025\n",
            "Accuracy after augmentation shear: 0.4 angle: 30.0  is  0.5922\n",
            "Accuracy after augmentation shear: 0.4 angle: 40.0  is  0.5985\n",
            "Accuracy after augmentation shear: 0.4 angle: 50.0  is  0.6132\n",
            "Accuracy after augmentation shear: 0.4 angle: 60.0  is  0.5731\n",
            "Accuracy after augmentation shear: 0.6 angle: 0.0  is  0.6337\n",
            "Accuracy after augmentation shear: 0.6 angle: 10.0  is  0.5812\n",
            "Accuracy after augmentation shear: 0.6 angle: 20.0  is  0.6184\n",
            "Accuracy after augmentation shear: 0.6 angle: 30.0  is  0.5832\n",
            "Accuracy after augmentation shear: 0.6 angle: 40.0  is  0.5927\n",
            "Accuracy after augmentation shear: 0.6 angle: 50.0  is  0.6007\n",
            "Accuracy after augmentation shear: 0.6 angle: 60.0  is  0.6185\n",
            "Accuracy after augmentation shear: 0.8 angle: 0.0  is  0.6343\n",
            "Accuracy after augmentation shear: 0.8 angle: 10.0  is  0.5987\n",
            "Accuracy after augmentation shear: 0.8 angle: 20.0  is  0.585\n",
            "Accuracy after augmentation shear: 0.8 angle: 30.0  is  0.5911\n",
            "Accuracy after augmentation shear: 0.8 angle: 40.0  is  0.5757\n",
            "Accuracy after augmentation shear: 0.8 angle: 50.0  is  0.5835\n",
            "Accuracy after augmentation shear: 0.8 angle: 60.0  is  0.5974\n",
            "Accuracy after augmentation shear: 1.0 angle: 0.0  is  0.6345\n",
            "Accuracy after augmentation shear: 1.0 angle: 10.0  is  0.5974\n",
            "Accuracy after augmentation shear: 1.0 angle: 20.0  is  0.5779\n",
            "Accuracy after augmentation shear: 1.0 angle: 30.0  is  0.6145\n",
            "Accuracy after augmentation shear: 1.0 angle: 40.0  is  0.5888\n",
            "Accuracy after augmentation shear: 1.0 angle: 50.0  is  0.6025\n",
            "Accuracy after augmentation shear: 1.0 angle: 60.0  is  0.6045\n",
            "Accuracy after augmentation shear: 1.2 angle: 0.0  is  0.6333\n",
            "Accuracy after augmentation shear: 1.2 angle: 10.0  is  0.6049\n",
            "Accuracy after augmentation shear: 1.2 angle: 20.0  is  0.6083\n",
            "Accuracy after augmentation shear: 1.2 angle: 30.0  is  0.5841\n",
            "Accuracy after augmentation shear: 1.2 angle: 40.0  is  0.6016\n",
            "Accuracy after augmentation shear: 1.2 angle: 50.0  is  0.606\n",
            "Accuracy after augmentation shear: 1.2 angle: 60.0  is  0.5858\n",
            "Accuracy after augmentation shear: 1.4 angle: 0.0  is  0.6365\n",
            "Accuracy after augmentation shear: 1.4 angle: 10.0  is  0.5952\n",
            "Accuracy after augmentation shear: 1.4 angle: 20.0  is  0.5886\n",
            "Accuracy after augmentation shear: 1.4 angle: 30.0  is  0.6047\n",
            "Accuracy after augmentation shear: 1.4 angle: 40.0  is  0.6022\n",
            "Accuracy after augmentation shear: 1.4 angle: 50.0  is  0.6094\n",
            "Accuracy after augmentation shear: 1.4 angle: 60.0  is  0.6058\n",
            "Accuracy after augmentation shear: 1.6 angle: 0.0  is  0.6336\n",
            "Accuracy after augmentation shear: 1.6 angle: 10.0  is  0.5891\n",
            "Accuracy after augmentation shear: 1.6 angle: 20.0  is  0.5717\n",
            "Accuracy after augmentation shear: 1.6 angle: 30.0  is  0.6027\n",
            "Accuracy after augmentation shear: 1.6 angle: 40.0  is  0.5965\n",
            "Accuracy after augmentation shear: 1.6 angle: 50.0  is  0.5715\n",
            "Accuracy after augmentation shear: 1.6 angle: 60.0  is  0.5926\n"
          ]
        }
      ]
    },
    {
      "cell_type": "markdown",
      "metadata": {
        "id": "PT6CnvSDEX7a"
      },
      "source": [
        "Let us plot it two dimensionally to see which is the best value for the hyperparameters:"
      ]
    },
    {
      "cell_type": "code",
      "metadata": {
        "id": "jD2i7msI_cLd",
        "colab": {
          "base_uri": "https://localhost:8080/",
          "height": 481
        },
        "outputId": "3d8ebd6d-0f67-4801-f2ac-0ad37a09393c"
      },
      "source": [
        "fig = plt.figure()\n",
        "ax = fig.add_axes([0.1, 0.1, 0.8, 0.8]) # main axes\n",
        "im = ax.imshow(accuracies.reshape((len(shearconstraints), len(angleconstraints))), cmap='inferno')\n",
        "ax.set_xlabel('angle')\n",
        "ax.set_ylabel('shear')\n",
        "ax.set_xticks(np.arange(len(angleconstraints)));\n",
        "ax.set_xticklabels(angleconstraints);\n",
        "ax.set_yticks(np.arange(len(shearconstraints)));\n",
        "ax.set_yticklabels(shearconstraints);\n",
        "plt.colorbar(im)"
      ],
      "execution_count": 21,
      "outputs": [
        {
          "output_type": "execute_result",
          "data": {
            "text/plain": [
              "<matplotlib.colorbar.Colorbar at 0x7ee97e35b3d0>"
            ]
          },
          "metadata": {},
          "execution_count": 21
        },
        {
          "output_type": "display_data",
          "data": {
            "text/plain": [
              "<Figure size 640x480 with 2 Axes>"
            ],
            "image/png": "[encoded data removed]"
          },
          "metadata": {}
        }
      ]
    },
    {
      "cell_type": "markdown",
      "metadata": {
        "id": "OHcZWJiFJDMh"
      },
      "source": [
        "It seems that rotation and shear don't mix! The best accuracy is when rotation is zero."
      ]
    },
    {
      "cell_type": "markdown",
      "metadata": {
        "id": "PAasQo1C3x4A"
      },
      "source": [
        "## Questions\n",
        "Try these questions for better understanding. You may not be able to solve all of them.\n",
        "1. What is the best value for angle constraint and shear constraint you got? How much did the accuracy improve as compared to not using augmentations?\n",
        "2. Can you increase the accuracy by increasing the number of augmentations from each sample?\n",
        "3. Try implementing a few augmentations of your own and experimenting with them. A good reference is <a href=https://www.analyticsvidhya.com/blog/2019/12/image-augmentation-deep-learning-pytorch/>here. </a>\n",
        "4. Try combining various augmentations. What is the highest accuracy you can get? What is the smallest training dataset you can take and still get accuracy above 50%?\n",
        "\n",
        "Whenever you do any experiment, a good practice is to vary the hyperparameters gradually and create a graph of your results, like we did for gridsearch."
      ]
    },
    {
      "cell_type": "markdown",
      "source": [
        "1ST* The effect of augmentations on accuracy also depends on various factors, including the dataset, the model, and the quality of the augmentations themselves. In some cases, augmentations can lead to significant improvements in accuracy by helping the model generalize better to unseen data. However, in other cases, if augmentations are not used properly or if they are applied excessively, they can lead to overfitting or degrade performance.\n",
        "\n",
        "To determine the best values for angle and shear constraints and to assess how much accuracy improves, you would typically perform experiments by training your model with different augmentation settings and evaluating its performance on a validation set. The specific values that work best for your task would be discovered through this iterative process of experimentation.\n",
        "\n",
        "If you're working on a specific project and looking for guidance on hyperparameter tuning and augmentation strategies, it's a good idea to consult with machine learning experts or refer to recent research papers and documentation related to your particular task and dataset. Additionally, conducting your own experiments on a small scale can provide insights into the effectiveness of different augmentation settings for your specific use case.\n",
        "\n",
        "2nd Answer :\n",
        "\n",
        "Increasing the number of augmentations from each sample during training can sometimes help improve model accuracy, but there are diminishing returns, and it's important to strike a balance. Here are some considerations:\n",
        "Advantages of Increasing Augmentations:\n",
        "\n",
        "Increased Data Diversity: More augmentations from each sample can introduce greater diversity into the training data, which can help the model generalize better to unseen examples. This can be particularly beneficial when you have a relatively small dataset.\n",
        "\n",
        "Regularization: Augmentations effectively act as a form of regularization. By presenting the model with multiple versions of the same data, it encourages the model to learn more robust and invariant features.\n",
        "\n",
        "Improved Convergence: Augmentations can sometimes help the model converge faster during training, as it encounters a wider range of data variations.\n",
        "\n",
        "Considerations and Potential Downsides:\n",
        "\n",
        "Increased Computational Cost: Generating and processing multiple augmented versions of each sample can significantly increase the computational cost of training, both in terms of time and hardware requirements.\n",
        "\n",
        "Overfitting Risk: If you apply too many augmentations, especially if they are very aggressive, you run the risk of overfitting your model to the training data. The model may become too specialized in recognizing the augmented examples but perform poorly on real-world, unaltered data.\n",
        "\n",
        "Hyperparameter Tuning: When you increase the number of augmentations, you may need to fine-tune hyperparameters such as learning rate, batch size, and training epochs to ensure the model converges correctly. Overly aggressive augmentations might require slower learning rates to prevent instability.\n",
        "\n",
        "Dataset Size: The effectiveness of increasing augmentations also depends on the size and diversity of your dataset. For very large and diverse datasets, the benefits of extensive augmentations may be limited.\n",
        "\n",
        "In practice, it's often beneficial to start with a moderate level of augmentations and gradually increase them while monitoring model performance on a validation set. You can perform experiments to determine the optimal level of augmentations that balances improved generalization with computational cost and overfitting risk. The optimal level may vary depending on your specific dataset and task.\n",
        "\n",
        "Remember that there's no one-size-fits-all answer, and the ideal level of augmentations may vary from one project to another.\n",
        "\n",
        "3rd Answewe:\n",
        "\n",
        "You can apply these custom augmentations to your image dataset along with other standard augmentations using libraries like OpenCV, PIL, or Augmentor. Experiment with different augmentation combinations and parameters to see how they affect your deep learning model's performance.\n",
        "The reference you provided (https://www.analyticsvidhya.com/blog/2019/12/image-augmentation-deep-learning-pytorch/) also contains a wealth of information on image augmentation techniques in PyTorch, which can be very helpful for implementing and experimenting with augmentations in deep learning projects."
      ],
      "metadata": {
        "id": "WWR39T3mYgBD"
      }
    },
    {
      "cell_type": "code",
      "source": [
        "import cv2\n",
        "import numpy as np\n",
        "\n",
        "def custom_rotation(image, angle_degrees):\n",
        "    height, width = image.shape[:2]\n",
        "    rotation_matrix = cv2.getRotationMatrix2D((width/2, height/2), angle_degrees, 1)\n",
        "    rotated_image = cv2.warpAffine(image, rotation_matrix, (width, height))\n",
        "    return rotated_image\n"
      ],
      "metadata": {
        "id": "bTZETHy3YlNU"
      },
      "execution_count": 22,
      "outputs": []
    },
    {
      "cell_type": "code",
      "source": [
        "from PIL import Image, ImageEnhance\n",
        "\n",
        "def custom_brightness(image, factor):\n",
        "    image_pil = Image.fromarray(image)\n",
        "    enhancer = ImageEnhance.Brightness(image_pil)\n",
        "    brightened_image = enhancer.enhance(factor)\n",
        "    return np.array(brightened_image)\n"
      ],
      "metadata": {
        "id": "xZWD-SsUY5d3"
      },
      "execution_count": 23,
      "outputs": []
    },
    {
      "cell_type": "code",
      "source": [
        "import cv2\n",
        "\n",
        "def custom_shear(image, shear_factor):\n",
        "    height, width = image.shape[:2]\n",
        "    shear_matrix = np.array([[1, shear_factor, 0], [0, 1, 0]], dtype=np.float32)\n",
        "    sheared_image = cv2.warpAffine(image, shear_matrix, (width, height))\n",
        "    return sheared_image\n"
      ],
      "metadata": {
        "id": "5z1ilPxOZAT9"
      },
      "execution_count": 24,
      "outputs": []
    },
    {
      "cell_type": "markdown",
      "source": [
        "4th Answer:\n",
        "\n",
        "To determine the highest accuracy achievable by combining various data augmentations and the smallest training dataset size that can still yield accuracy above 50%, you would need to conduct an empirical study specific to your dataset, model architecture, and task. Here's a general approach to nding the optimal augmentation strategy and dataset size:\n",
        "Data Augmentation: Start by selecting a range of data augmentations that are relevant to your task. Common augmentations include rotation, scaling, translation, shear, flip, brightness/contrast adjustments, and more. You can use libraries like TensorFlow's ImageDataGenerator or PyTorch's transforms for this purpose. Experiment with different combinations and levels of augmentation.\n",
        "\n",
        "Model Selection: Choose a suitable base model architecture for your task, such as Convolutional Neural Networks (CNNs) for image classification or Recurrent Neural Networks (RNNs) for sequential data. Fine-tune the model architecture if necessary.\n",
        "\n",
        "Training: Train your model on varying training dataset sizes, starting with a small dataset and gradually increasing it. For each dataset size, apply your chosen data augmentations during training.\n",
        "\n",
        "Validation: Use a validation dataset to track the accuracy of your model during training. This will help you identify the point at which increasing the dataset size no longer significantly improves accuracy.\n",
        "\n",
        "Testing: Finally, evaluate your model's performance on a separate test dataset to get a reliable estimate of its accuracy.\n",
        "\n",
        "Optimization: Throughout this process, keep track of the best-performing combination of augmentations and the smallest dataset size that still achieves accuracy above 50%. You can use techniques like grid search or random search to systematically explore different augmentation parameters.\n",
        "\n",
        "Ensemble Methods: Consider using ensemble methods, such as averaging predictions from multiple models trained with different augmentation strategies, to potentially boost accuracy further.\n",
        "\n",
        "It's important to note that the specific results will depend on the nature of your dataset and task. Some datasets may require more extensive augmentation to achieve high accuracy, while others may not benefit as much from augmentation.\n",
        "\n",
        "In practice, the highest achievable accuracy and the smallest training dataset size for accuracy above 50% can vary significantly depending on the complexity of the task, the quality and size of your dataset, and the chosen model architecture. Conducting experiments and fine-tuning the approach is essential to find the optimal configuration for your specific problem.\n",
        "\n"
      ],
      "metadata": {
        "id": "_LcNK9EfZFcN"
      }
    }
  ]
}
