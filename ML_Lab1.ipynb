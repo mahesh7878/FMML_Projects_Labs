{
  "nbformat": 4,
  "nbformat_minor": 0,
  "metadata": {
    "colab": {
      "provenance": [],
      "include_colab_link": true
    },
    "kernelspec": {
      "name": "python3",
      "display_name": "Python 3"
    },
    "language_info": {
      "name": "python"
    }
  },
  "cells": [
    {
      "cell_type": "markdown",
      "metadata": {
        "id": "view-in-github",
        "colab_type": "text"
      },
      "source": [
        "<a href=\"https://colab.research.google.com/github/mahesh7878/FMML_Projects_Labs/blob/main/ML_Lab1.ipynb\" target=\"_parent\"><img src=\"https://colab.research.google.com/assets/colab-badge.svg\" alt=\"Open In Colab\"/></a>"
      ]
    },
    {
      "cell_type": "markdown",
      "source": [
        "**Find- S Algorithm :**\n",
        "The S algorithm, also known as the Find-S algorithm, is a machine learning algorithm that seeks to find a maximally specific hypothesis based on labeled training data. It starts with the most specific hypothesis and generalizes it by incorporating positive examples. It ignores negative examples during the learning process."
      ],
      "metadata": {
        "id": "hcuBQW0C772n"
      }
    },
    {
      "cell_type": "code",
      "source": [
        "# Initial hypothesis (most specific)\n",
        "print(\"\\nThe initial value of hypothesis:\")\n",
        "hypothesis = ['0'] * num_attributes\n",
        "print(hypothesis)"
      ],
      "metadata": {
        "colab": {
          "base_uri": "https://localhost:8080/"
        },
        "id": "EZg3U43YPh_o",
        "outputId": "0058c0b1-fda6-447b-cdcf-2373d18c33dc"
      },
      "execution_count": 2,
      "outputs": [
        {
          "output_type": "stream",
          "name": "stdout",
          "text": [
            "\n",
            "The initial value of hypothesis:\n",
            "['0', '0', '0', '0', '0', '0']\n"
          ]
        }
      ]
    },
    {
      "cell_type": "code",
      "source": [
        "import csv\n",
        "\n",
        "# Attributes used in the dataset (not directly used in the code, just for reference)\n",
        "attributes = [['Sunny', 'Rainy'],\n",
        "              ['Warm', 'Cold'],\n",
        "              ['Normal', 'High'],\n",
        "              ['Strong', 'Weak'],\n",
        "              ['Warm', 'Cool'],\n",
        "              ['Same', 'Change']]\n",
        "\n",
        "num_attributes = len(attributes)\n",
        "\n",
        "# Displaying general and specific hypotheses\n",
        "print(\"\\nThe most general hypothesis: ['?','?','?','?','?','?']\\n\")\n",
        "print(\"\\nThe most specific hypothesis: ['0','0','0','0','0','0']\\n\")"
      ],
      "metadata": {
        "colab": {
          "base_uri": "https://localhost:8080/"
        },
        "id": "LZJ82iNUPWbE",
        "outputId": "378dcce9-4329-4686-acd9-03589f337756"
      },
      "execution_count": 1,
      "outputs": [
        {
          "output_type": "stream",
          "name": "stdout",
          "text": [
            "\n",
            "The most general hypothesis: ['?','?','?','?','?','?']\n",
            "\n",
            "\n",
            "The most specific hypothesis: ['0','0','0','0','0','0']\n",
            "\n"
          ]
        }
      ]
    },
    {
      "cell_type": "code",
      "source": [
        "import csv\n",
        "\n",
        "data = []\n",
        "\n",
        "# Reading the CSV file\n",
        "print(\"\\nThe Given Training Data Set\\n\")\n",
        "try:\n",
        "    with open('Lab1.csv', 'r') as csvFile:\n",
        "        reader = csv.reader(csvFile)\n",
        "        for row in reader:\n",
        "            data.append(row)\n",
        "            print(row)\n",
        "except FileNotFoundError:\n",
        "    print(\"Error: The file 'Lab1.csv' was not found. Please check the file path.\")\n",
        "except Exception as e:\n",
        "    print(f\"An error occurred: {e}\")"
      ],
      "metadata": {
        "colab": {
          "base_uri": "https://localhost:8080/"
        },
        "id": "3PABqL3siu8-",
        "outputId": "45347a95-a0aa-4d7c-a453-9236273d32cf"
      },
      "execution_count": 9,
      "outputs": [
        {
          "output_type": "stream",
          "name": "stdout",
          "text": [
            "\n",
            "The Given Training Data Set\n",
            "\n",
            "Error: The file 'Lab1.csv' was not found. Please check the file path.\n"
          ]
        }
      ]
    },
    {
      "cell_type": "code",
      "source": [
        "import csv\n",
        "\n",
        "data = []\n",
        "try:\n",
        "    with open('Lab1.csv', 'r') as csvFile:\n",
        "        reader = csv.reader(csvFile)\n",
        "        for row in reader:\n",
        "            data.append(row)\n",
        "\n",
        "    # Assume the last column is the target label and all others are attributes\n",
        "    num_attributes = len(data[0]) - 1\n",
        "    hypothesis = [''] * num_attributes\n",
        "\n",
        "    # Initialize the hypothesis from the first positive example\n",
        "    first_positive_example_found = False\n",
        "\n",
        "    print(\"\\nFind S: Finding a Maximally Specific Hypothesis\\n\")\n",
        "    for i in range(len(data)):\n",
        "        if data[i][num_attributes] == 'Yes':  # Only consider positive examples\n",
        "            if not first_positive_example_found:\n",
        "                hypothesis = data[i][:num_attributes]  # Set hypothesis to the first positive example\n",
        "                first_positive_example_found = True\n",
        "            else:\n",
        "                for j in range(num_attributes):\n",
        "                    if data[i][j] != hypothesis[j]:\n",
        "                        hypothesis[j] = '?'\n",
        "\n",
        "        print(f\"For Training Example No {i + 1}, the hypothesis is: {hypothesis}\")\n",
        "\n",
        "    if first_positive_example_found:\n",
        "        print(f\"\\nFinal Hypothesis: {hypothesis}\")\n",
        "    else:\n",
        "        print(\"\\nNo positive examples found.\")\n",
        "except FileNotFoundError:\n",
        "    print(\"Error: The file 'Lab1.csv' was not found. Please check the file path.\")"
      ],
      "metadata": {
        "colab": {
          "base_uri": "https://localhost:8080/"
        },
        "id": "IefsoYSPPk6u",
        "outputId": "07155ddd-4717-483a-a5ff-9720ade1f113"
      },
      "execution_count": 13,
      "outputs": [
        {
          "output_type": "stream",
          "name": "stdout",
          "text": [
            "Error: The file 'Lab1.csv' was not found. Please check the file path.\n"
          ]
        }
      ]
    },
    {
      "cell_type": "code",
      "source": [
        "print(\"\\nThe Maximally Specific Hypothesis for a given Training Example:\\n\")\n",
        "print(hypothesis)"
      ],
      "metadata": {
        "colab": {
          "base_uri": "https://localhost:8080/"
        },
        "id": "2bJzK5hsPn3P",
        "outputId": "3db2d78b-337c-457e-f0cd-1811c3338682"
      },
      "execution_count": 4,
      "outputs": [
        {
          "output_type": "stream",
          "name": "stdout",
          "text": [
            "\n",
            "The Maximally Specific Hypothesis for a given Training Example:\n",
            "\n",
            "['0', '0', '0', '0', '0', '0']\n"
          ]
        }
      ]
    },
    {
      "cell_type": "markdown",
      "source": [
        "This code sets up a list of attributes with their possible values for a machine learning task, likely concept learning. It prints out the most general hypothesis (['?', '?', '?', '?', '?', '?']) and the most specific hypothesis (['0', '0', '0', '0', '0', '0']), which are used as starting points for learning from data.\n",
        "\n",
        "After Training Example No. 1:\n",
        "\n",
        "The hypothesis is set to match the first positive example exactly: ['Sunny', 'Warm', '?', 'Strong', 'Warm', 'Same'].\n",
        "\n",
        "After Training Example No. 2:\n",
        "\n",
        "The second example matches the current hypothesis, so the hypothesis remains unchanged: ['Sunny', 'Warm', '?', 'Strong', 'Warm', 'Same'].\n",
        "\n",
        "After Training Example No. 3:\n",
        "\n",
        "The third example causes the hypothesis to be generalized where it differs. Specifically, the values for the fifth and sixth attributes are generalized to ?: ['Sunny', 'Warm', '?', 'Strong', '?', '?'].\n",
        "\n",
        "Final Hypothesis:\n",
        "\n",
        "The most specific hypothesis that fits all the positive examples is ['Sunny', 'Warm', '?', 'Strong', '?', '?'].\n",
        "\n",
        "This final hypothesis covers all positive training examples by being as specific as possible while accommodating variations in the data."
      ],
      "metadata": {
        "id": "-eOk644SPw4h"
      }
    }
  ]
}